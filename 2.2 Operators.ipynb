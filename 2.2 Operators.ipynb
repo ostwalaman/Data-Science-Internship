{
 "cells": [
  {
   "cell_type": "markdown",
   "id": "45151386",
   "metadata": {},
   "source": [
    "## Arithmetic Operators"
   ]
  },
  {
   "cell_type": "code",
   "execution_count": 1,
   "id": "3c71661e",
   "metadata": {},
   "outputs": [
    {
     "data": {
      "text/plain": [
       "10"
      ]
     },
     "execution_count": 1,
     "metadata": {},
     "output_type": "execute_result"
    }
   ],
   "source": [
    "# Addition (+)\n",
    "\n",
    "5 + 5"
   ]
  },
  {
   "cell_type": "code",
   "execution_count": 2,
   "id": "a633b74a",
   "metadata": {},
   "outputs": [
    {
     "data": {
      "text/plain": [
       "6"
      ]
     },
     "execution_count": 2,
     "metadata": {},
     "output_type": "execute_result"
    }
   ],
   "source": [
    "# Subtraction (-)\n",
    "\n",
    "10 - 4"
   ]
  },
  {
   "cell_type": "code",
   "execution_count": 3,
   "id": "02f1688c",
   "metadata": {},
   "outputs": [
    {
     "data": {
      "text/plain": [
       "21.6"
      ]
     },
     "execution_count": 3,
     "metadata": {},
     "output_type": "execute_result"
    }
   ],
   "source": [
    "# Multiplication (*)\n",
    "\n",
    "3 * 7.2"
   ]
  },
  {
   "cell_type": "code",
   "execution_count": 4,
   "id": "06cee86e",
   "metadata": {},
   "outputs": [
    {
     "data": {
      "text/plain": [
       "9.0"
      ]
     },
     "execution_count": 4,
     "metadata": {},
     "output_type": "execute_result"
    }
   ],
   "source": [
    "# Division (/)\n",
    "\n",
    "27 / 3"
   ]
  },
  {
   "cell_type": "markdown",
   "id": "13b05b00",
   "metadata": {},
   "source": [
    "## Comparison Operators"
   ]
  },
  {
   "cell_type": "code",
   "execution_count": 5,
   "id": "9c0da8e0",
   "metadata": {},
   "outputs": [
    {
     "data": {
      "text/plain": [
       "True"
      ]
     },
     "execution_count": 5,
     "metadata": {},
     "output_type": "execute_result"
    }
   ],
   "source": [
    "# More Than (>)\n",
    "\n",
    "10 > 7"
   ]
  },
  {
   "cell_type": "code",
   "execution_count": 6,
   "id": "a5333bb8",
   "metadata": {},
   "outputs": [
    {
     "data": {
      "text/plain": [
       "False"
      ]
     },
     "execution_count": 6,
     "metadata": {},
     "output_type": "execute_result"
    }
   ],
   "source": [
    "# Less Than (<)\n",
    "\n",
    "10 < 7"
   ]
  },
  {
   "cell_type": "code",
   "execution_count": 7,
   "id": "716bb142",
   "metadata": {},
   "outputs": [
    {
     "data": {
      "text/plain": [
       "False"
      ]
     },
     "execution_count": 7,
     "metadata": {},
     "output_type": "execute_result"
    }
   ],
   "source": [
    "# More Than Equal To (>=)\n",
    "\n",
    "10 >= 11"
   ]
  },
  {
   "cell_type": "code",
   "execution_count": 8,
   "id": "33998a8a",
   "metadata": {},
   "outputs": [
    {
     "data": {
      "text/plain": [
       "True"
      ]
     },
     "execution_count": 8,
     "metadata": {},
     "output_type": "execute_result"
    }
   ],
   "source": [
    "# Less Than Equal To (<=)\n",
    "\n",
    "9 <= 20"
   ]
  },
  {
   "cell_type": "code",
   "execution_count": 9,
   "id": "ed5366b5",
   "metadata": {},
   "outputs": [
    {
     "data": {
      "text/plain": [
       "True"
      ]
     },
     "execution_count": 9,
     "metadata": {},
     "output_type": "execute_result"
    }
   ],
   "source": [
    "# Equal To (==)\n",
    "\n",
    "10 == 10"
   ]
  },
  {
   "cell_type": "code",
   "execution_count": 10,
   "id": "3c2c62ce",
   "metadata": {},
   "outputs": [
    {
     "data": {
      "text/plain": [
       "True"
      ]
     },
     "execution_count": 10,
     "metadata": {},
     "output_type": "execute_result"
    }
   ],
   "source": [
    "# Not Equal To (!=)\n",
    "\n",
    "10 != 12"
   ]
  },
  {
   "cell_type": "markdown",
   "id": "b54eec7d",
   "metadata": {},
   "source": [
    "## Logical Opeartors"
   ]
  },
  {
   "cell_type": "code",
   "execution_count": 11,
   "id": "7c442dd6",
   "metadata": {},
   "outputs": [
    {
     "data": {
      "text/plain": [
       "0"
      ]
     },
     "execution_count": 11,
     "metadata": {},
     "output_type": "execute_result"
    }
   ],
   "source": [
    "# AND (and)\n",
    "\n",
    "0 and 4"
   ]
  },
  {
   "cell_type": "code",
   "execution_count": 12,
   "id": "5283639f",
   "metadata": {},
   "outputs": [
    {
     "data": {
      "text/plain": [
       "5"
      ]
     },
     "execution_count": 12,
     "metadata": {},
     "output_type": "execute_result"
    }
   ],
   "source": [
    "4 and 5"
   ]
  },
  {
   "cell_type": "code",
   "execution_count": 13,
   "id": "d613c5e6",
   "metadata": {},
   "outputs": [
    {
     "data": {
      "text/plain": [
       "3"
      ]
     },
     "execution_count": 13,
     "metadata": {},
     "output_type": "execute_result"
    }
   ],
   "source": [
    "# OR (or)\n",
    "\n",
    "3 or 0"
   ]
  },
  {
   "cell_type": "code",
   "execution_count": 14,
   "id": "fbe9d7fc",
   "metadata": {},
   "outputs": [
    {
     "data": {
      "text/plain": [
       "0"
      ]
     },
     "execution_count": 14,
     "metadata": {},
     "output_type": "execute_result"
    }
   ],
   "source": [
    "0 or 0"
   ]
  }
 ],
 "metadata": {
  "kernelspec": {
   "display_name": "Python 3 (ipykernel)",
   "language": "python",
   "name": "python3"
  },
  "language_info": {
   "codemirror_mode": {
    "name": "ipython",
    "version": 3
   },
   "file_extension": ".py",
   "mimetype": "text/x-python",
   "name": "python",
   "nbconvert_exporter": "python",
   "pygments_lexer": "ipython3",
   "version": "3.10.6"
  }
 },
 "nbformat": 4,
 "nbformat_minor": 5
}
